{
 "cells": [
  {
   "cell_type": "code",
   "execution_count": 8,
   "metadata": {},
   "outputs": [
    {
     "data": {
      "text/html": [
       "<div>\n",
       "<style scoped>\n",
       "    .dataframe tbody tr th:only-of-type {\n",
       "        vertical-align: middle;\n",
       "    }\n",
       "\n",
       "    .dataframe tbody tr th {\n",
       "        vertical-align: top;\n",
       "    }\n",
       "\n",
       "    .dataframe thead th {\n",
       "        text-align: right;\n",
       "    }\n",
       "</style>\n",
       "<table border=\"1\" class=\"dataframe\">\n",
       "  <thead>\n",
       "    <tr style=\"text-align: right;\">\n",
       "      <th></th>\n",
       "      <th>Timestamp</th>\n",
       "      <th>What is your favorite music band?</th>\n",
       "      <th>Do you prefer cats or dogs?</th>\n",
       "      <th>Any recommendation for P.H.D students for academic success?</th>\n",
       "    </tr>\n",
       "  </thead>\n",
       "  <tbody>\n",
       "  </tbody>\n",
       "</table>\n",
       "</div>"
      ],
      "text/plain": [
       "Empty DataFrame\n",
       "Columns: [Timestamp, What is your favorite music band?, Do you prefer cats or dogs?,  Any recommendation for P.H.D students for academic success? ]\n",
       "Index: []"
      ]
     },
     "execution_count": 8,
     "metadata": {},
     "output_type": "execute_result"
    }
   ],
   "source": [
    "import requests #great web library\n",
    "import pandas as pd #great table/dataframe library\n",
    "doc_id = \"1wrC_D09KpEZBGQG-A3idl_90DNxoiJO2Ka4WAM-6xNA\" #from your shared link\n",
    "url = f\"https://docs.google.com/spreadsheets/d/{doc_id}/gviz/tq?tqx=out:csv\" #beautiful python syntactic sugar\n",
    "res = requests.get(url,allow_redirects=True) #Does the download\n",
    "open('./temp.csv', 'wb').write(res.content) #temporarily write to a file\n",
    "df = pd.read_csv('./temp.csv') #so that we can read it. \n",
    "df.head() #so we can see that it worked\n",
    "#https://docs.google.com/forms/d/e/1FAIpQLSdX4_BIxxscBPEhmravK2_NihWuRrYDJDk4pusg6gYilHax8Q/viewform?usp=sf_link"
   ]
  },
  {
   "cell_type": "code",
   "execution_count": null,
   "metadata": {},
   "outputs": [],
   "source": []
  },
  {
   "cell_type": "code",
   "execution_count": null,
   "metadata": {},
   "outputs": [],
   "source": []
  },
  {
   "cell_type": "code",
   "execution_count": null,
   "metadata": {},
   "outputs": [],
   "source": []
  },
  {
   "cell_type": "code",
   "execution_count": null,
   "metadata": {},
   "outputs": [],
   "source": []
  }
 ],
 "metadata": {
  "kernelspec": {
   "display_name": "Python 3",
   "language": "python",
   "name": "python3"
  },
  "language_info": {
   "codemirror_mode": {
    "name": "ipython",
    "version": 3
   },
   "file_extension": ".py",
   "mimetype": "text/x-python",
   "name": "python",
   "nbconvert_exporter": "python",
   "pygments_lexer": "ipython3",
   "version": "3.7.4"
  }
 },
 "nbformat": 4,
 "nbformat_minor": 4
}
